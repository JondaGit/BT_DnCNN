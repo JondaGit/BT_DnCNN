{
 "cells": [
  {
   "cell_type": "code",
   "execution_count": 76,
   "source": [
    "import numpy as np\n",
    "import cv2\n",
    "from matplotlib import pyplot as plt\n",
    "import torch\n",
    "from torchvision import transforms, models\n",
    "from PIL import Image\n",
    "\n",
    "def Im2Patch(img, win, stride=1):\n",
    "    k = 0\n",
    "    endc = img.shape[0]\n",
    "    endw = img.shape[1]\n",
    "    endh = img.shape[2]\n",
    "    patch = img[:, 0:endw-win+0+1:stride, 0:endh-win+0+1:stride]\n",
    "    TotalPatNum = patch.shape[1] * patch.shape[2]\n",
    "    Y = np.zeros([endc, win*win,TotalPatNum], np.float32)\n",
    "    for i in range(win):\n",
    "        for j in range(win):\n",
    "            patch = img[:,i:endw-win+i+1:stride,j:endh-win+j+1:stride]\n",
    "            Y[:,k,:] = np.array(patch[:]).reshape(endc, TotalPatNum)\n",
    "            k = k + 1\n",
    "    return Y.reshape([endc, win, win, TotalPatNum])\n",
    "\n",
    "def Im2PatchNP(img, win, stride=1):\n",
    "    k = 0\n",
    "    endc = img.shape[2]\n",
    "    endw = img.shape[1]\n",
    "    endh = img.shape[0]\n",
    "    patch = img[0:endh-win+0+1:stride, 0:endw-win+0+1:stride, :]\n",
    "    TotalPatNum = patch.shape[0] * patch.shape[1]\n",
    "    Y = np.zeros([win*win,TotalPatNum, endc], np.float32)\n",
    "    for i in range(win):\n",
    "        for j in range(win):\n",
    "            patch = img[i:endh-win+i+1:stride, j:endw-win+j+1:stride, :]\n",
    "            Y[k,:,:] = np.array(patch[:]).reshape(TotalPatNum, endc)\n",
    "            k = k + 1\n",
    "    return Y.reshape([win, win, TotalPatNum, endc])\n",
    "\n",
    "# img = cv2.imread('../data/train/12003.jpg')\n",
    "# h, w, c = img.shape\n",
    "# print(img.shape)\n",
    "# img = cv2.resize(img, img.shape[:2], interpolation=cv2.INTER_CUBIC)\n",
    "# # img = np.expand_dims(img[:,:,0].copy(), 0)\n",
    "# img = np.reshape(img, (img.shape[2], img.shape[0], img.shape[1]))\n",
    "# print(img.shape)\n",
    "# patches = Im2Patch(img, 150, 150)\n",
    "# print(patches.shape)\n",
    "\n",
    "# fig = plt.figure(figsize=(10,20))\n",
    "# fig.add_subplot(1,3,1)\n",
    "# tensor = torch.Tensor(np.flip(patches[:, :, :, 0], 0).copy())\n",
    "# plt.imshow(transforms.ToPILImage()(tensor))\n",
    "\n",
    "img = Image.open(\"../data/train/12003.jpg\")\n",
    "img = np.asarray(img)\n",
    "patches = Im2PatchNP(img, 40, 40)\n",
    "patch = patches[:,:,1,:].astype(np.uint8)\n",
    "# plt.imshow((patch))\n",
    "\n",
    "fig = plt.figure(figsize=(10,20))\n",
    "for i in range(patches.shape[2]):\n",
    "    fig.add_subplot(patches.shape[2] / 2,patches.shape[2] / 2,i + 1)\n",
    "    plt.imshow(patches[:,:,i,:].astype(np.uint8))\n",
    "plt.show()\n",
    "\n"
   ],
   "outputs": [
    {
     "output_type": "display_data",
     "data": {
      "image/png": "[encoded data removed]",
      "text/plain": [
       "<Figure size 720x1440 with 96 Axes>"
      ]
     },
     "metadata": {
      "needs_background": "light"
     }
    }
   ],
   "metadata": {}
  }
 ],
 "metadata": {
  "orig_nbformat": 4,
  "language_info": {
   "name": "python",
   "version": "3.8.10",
   "mimetype": "text/x-python",
   "codemirror_mode": {
    "name": "ipython",
    "version": 3
   },
   "pygments_lexer": "ipython3",
   "nbconvert_exporter": "python",
   "file_extension": ".py"
  },
  "kernelspec": {
   "name": "python3",
   "display_name": "Python 3.8.10 64-bit"
  },
  "interpreter": {
   "hash": "916dbcbb3f70747c44a77c7bcd40155683ae19c65e1c03b4aa3499c5328201f1"
  }
 },
 "nbformat": 4,
 "nbformat_minor": 2
}