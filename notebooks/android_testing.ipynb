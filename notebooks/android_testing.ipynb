{
 "cells": [
  {
   "cell_type": "code",
   "execution_count": 3,
   "metadata": {},
   "outputs": [],
   "source": [
    "import torch.nn as nn\n",
    "import os\n",
    "from torch.utils.data import Dataset\n",
    "from PIL import Image\n",
    "from torchvision import transforms\n",
    "import random\n",
    "import numpy as np\n",
    "import torch\n",
    "\n",
    "sys.path.insert(0, '../src')\n",
    "\n",
    "import models\n",
    "import util"
   ]
  },
  {
   "cell_type": "markdown",
   "metadata": {},
   "source": [
    "## Noise testing"
   ]
  },
  {
   "cell_type": "code",
   "execution_count": 13,
   "metadata": {},
   "outputs": [
    {
     "data": {
      "text/plain": [
       "array([[ -4.22603225, -10.24569744,  28.07981314, ..., -18.19267043,\n",
       "         55.35651436, -11.54782156],\n",
       "       [-51.32669651,  43.84976445, -10.91739201, ...,  -4.23881946,\n",
       "          9.16051298, -49.27109757],\n",
       "       [-20.13270688,   5.51820036, -14.12769131, ...,  23.29363304,\n",
       "         -4.14999007,  -4.56085671],\n",
       "       ...,\n",
       "       [ -8.37187533, -30.5146597 , -53.62089424, ..., -24.29240108,\n",
       "        -37.19539351,  -6.41208868],\n",
       "       [-28.04647212, -24.12562406, -21.12390167, ...,   9.75632709,\n",
       "        -10.96299951,  14.13672785],\n",
       "       [  1.36891083,  -5.53691122,  36.10369835, ..., -24.21220117,\n",
       "         26.06055501,  12.7944791 ]])"
      ]
     },
     "execution_count": 13,
     "metadata": {},
     "output_type": "execute_result"
    }
   ],
   "source": [
    "img_H = np.asarray(Image.open(\"clean.png\"))\n",
    "img_L = img_H.copy()\n",
    "\n",
    "mean = 0\n",
    "sigma = 25\n",
    "gaussian = np.random.normal(mean, sigma, (img_L.shape[0],img_L.shape[1])) \n",
    "# img_L += gaussian\n",
    "# img_L\n",
    "gaussian\n"
   ]
  }
 ],
 "metadata": {
  "interpreter": {
   "hash": "916dbcbb3f70747c44a77c7bcd40155683ae19c65e1c03b4aa3499c5328201f1"
  },
  "kernelspec": {
   "display_name": "Python 3.8.10 64-bit",
   "name": "python3"
  },
  "language_info": {
   "codemirror_mode": {
    "name": "ipython",
    "version": 3
   },
   "file_extension": ".py",
   "mimetype": "text/x-python",
   "name": "python",
   "nbconvert_exporter": "python",
   "pygments_lexer": "ipython3",
   "version": "3.8.10"
  },
  "orig_nbformat": 4
 },
 "nbformat": 4,
 "nbformat_minor": 2
}
